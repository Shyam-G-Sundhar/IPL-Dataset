{
 "cells": [
  {
   "cell_type": "code",
   "execution_count": 1,
   "id": "d5637d9c",
   "metadata": {
    "execution": {
     "iopub.execute_input": "2024-02-29T16:06:45.045400Z",
     "iopub.status.busy": "2024-02-29T16:06:45.044959Z",
     "iopub.status.idle": "2024-02-29T16:06:46.086157Z",
     "shell.execute_reply": "2024-02-29T16:06:46.084692Z"
    },
    "papermill": {
     "duration": 1.05083,
     "end_time": "2024-02-29T16:06:46.089674",
     "exception": false,
     "start_time": "2024-02-29T16:06:45.038844",
     "status": "completed"
    },
    "tags": []
   },
   "outputs": [
    {
     "name": "stdout",
     "output_type": "stream",
     "text": [
      "    Column_1  Column_2  Column_3  Column_4  Column_5  Column_6  Column_7  \\\n",
      "0   0.374540  0.950714  0.731994  0.598658  0.156019  0.155995  0.058084   \n",
      "1   0.304242  0.524756  0.431945  0.291229  0.611853  0.139494  0.292145   \n",
      "2   0.065052  0.948886  0.965632  0.808397  0.304614  0.097672  0.684233   \n",
      "3   0.546710  0.184854  0.969585  0.775133  0.939499  0.894827  0.597900   \n",
      "4   0.280935  0.542696  0.140924  0.802197  0.074551  0.986887  0.772245   \n",
      "5   0.863103  0.623298  0.330898  0.063558  0.310982  0.325183  0.729606   \n",
      "6   0.522733  0.427541  0.025419  0.107891  0.031429  0.636410  0.314356   \n",
      "7   0.929698  0.808120  0.633404  0.871461  0.803672  0.186570  0.892559   \n",
      "8   0.006952  0.510747  0.417411  0.222108  0.119865  0.337615  0.942910   \n",
      "9   0.284840  0.036887  0.609564  0.502679  0.051479  0.278646  0.908266   \n",
      "10  0.367783  0.632306  0.633530  0.535775  0.090290  0.835302  0.320780   \n",
      "11  0.690938  0.386735  0.936730  0.137521  0.341066  0.113474  0.924694   \n",
      "12  0.900418  0.633101  0.339030  0.349210  0.725956  0.897110  0.887086   \n",
      "13  0.005062  0.160808  0.548734  0.691895  0.651961  0.224269  0.712179   \n",
      "14  0.265202  0.243990  0.973011  0.393098  0.892047  0.631139  0.794811   \n",
      "15  0.940459  0.953929  0.914864  0.370159  0.015457  0.928319  0.428184   \n",
      "16  0.936155  0.696030  0.570061  0.097176  0.615007  0.990054  0.140084   \n",
      "17  0.867072  0.913241  0.511342  0.501516  0.798295  0.649964  0.701967   \n",
      "18  0.286541  0.590833  0.030500  0.037348  0.822601  0.360191  0.127061   \n",
      "19  0.726091  0.975852  0.516300  0.322956  0.795186  0.270832  0.438971   \n",
      "\n",
      "    Column_8  Column_9  Column_10  Column_11  Column_12  Column_13  Column_14  \\\n",
      "0   0.866176  0.601115   0.708073   0.020584   0.969910   0.832443   0.212339   \n",
      "1   0.366362  0.456070   0.785176   0.199674   0.514234   0.592415   0.046450   \n",
      "2   0.440152  0.122038   0.495177   0.034389   0.909320   0.258780   0.662522   \n",
      "3   0.921874  0.088493   0.195983   0.045227   0.325330   0.388677   0.271349   \n",
      "4   0.198716  0.005522   0.815461   0.706857   0.729007   0.771270   0.074045   \n",
      "5   0.637557  0.887213   0.472215   0.119594   0.713245   0.760785   0.561277   \n",
      "6   0.508571  0.907566   0.249292   0.410383   0.755551   0.228798   0.076980   \n",
      "7   0.539342  0.807440   0.896091   0.318003   0.110052   0.227935   0.427108   \n",
      "8   0.323203  0.518791   0.703019   0.363630   0.971782   0.962447   0.251782   \n",
      "9   0.239562  0.144895   0.489453   0.985650   0.242055   0.672136   0.761620   \n",
      "10  0.186519  0.040775   0.590893   0.677564   0.016588   0.512093   0.226496   \n",
      "11  0.877339  0.257942   0.659984   0.817222   0.555201   0.529651   0.241852   \n",
      "12  0.779876  0.642032   0.084140   0.161629   0.898554   0.606429   0.009197   \n",
      "13  0.237249  0.325400   0.746491   0.649633   0.849223   0.657613   0.568309   \n",
      "14  0.502637  0.576904   0.492518   0.195243   0.722452   0.280772   0.024316   \n",
      "15  0.966655  0.963620   0.853009   0.294449   0.385098   0.851137   0.316922   \n",
      "16  0.518330  0.877373   0.740769   0.697016   0.702484   0.359491   0.293592   \n",
      "17  0.795793  0.890005   0.337995   0.375583   0.093982   0.578280   0.035942   \n",
      "18  0.522243  0.769994   0.215821   0.622890   0.085347   0.051682   0.531355   \n",
      "19  0.078456  0.025351   0.962648   0.835980   0.695974   0.408953   0.173294   \n",
      "\n",
      "    Column_15  Column_16  \n",
      "0    0.181825   0.183405  \n",
      "1    0.607545   0.170524  \n",
      "2    0.311711   0.520068  \n",
      "3    0.828738   0.356753  \n",
      "4    0.358466   0.115869  \n",
      "5    0.770967   0.493796  \n",
      "6    0.289751   0.161221  \n",
      "7    0.818015   0.860731  \n",
      "8    0.497249   0.300878  \n",
      "9    0.237638   0.728216  \n",
      "10   0.645173   0.174366  \n",
      "11   0.093103   0.897216  \n",
      "12   0.101472   0.663502  \n",
      "13   0.093675   0.367716  \n",
      "14   0.645472   0.177111  \n",
      "15   0.169493   0.556801  \n",
      "16   0.809361   0.810113  \n",
      "17   0.465598   0.542645  \n",
      "18   0.540635   0.637430  \n",
      "19   0.156437   0.250243  \n"
     ]
    }
   ],
   "source": [
    "import numpy as np\n",
    "import pandas as pd\n",
    "\n",
    "np.random.seed(42)\n",
    "\n",
    "data = np.random.rand(20, 16)\n",
    "\n",
    "columns = [f\"Column_{i+1}\" for i in range(16)]\n",
    "\n",
    "df = pd.DataFrame(data, columns=columns)\n",
    "\n",
    "print(df)"
   ]
  },
  {
   "cell_type": "code",
   "execution_count": 2,
   "id": "e102de0e",
   "metadata": {
    "execution": {
     "iopub.execute_input": "2024-02-29T16:06:46.100600Z",
     "iopub.status.busy": "2024-02-29T16:06:46.100082Z",
     "iopub.status.idle": "2024-02-29T16:06:47.459495Z",
     "shell.execute_reply": "2024-02-29T16:06:47.458013Z"
    },
    "papermill": {
     "duration": 1.368062,
     "end_time": "2024-02-29T16:06:47.462422",
     "exception": false,
     "start_time": "2024-02-29T16:06:46.094360",
     "status": "completed"
    },
    "tags": []
   },
   "outputs": [
    {
     "name": "stdout",
     "output_type": "stream",
     "text": [
      "\n",
      "Standardized DataFrame:\n",
      "    Column_1  Column_2  Column_3  Column_4  Column_5  Column_6  Column_7  \\\n",
      "0  -0.419775  1.300253  0.585011  0.663109 -0.919885 -1.063397 -1.838044   \n",
      "1  -0.640511 -0.223632 -0.444804 -0.504067  0.470542 -1.114854 -1.019091   \n",
      "2  -1.391570  1.293710  1.386894  1.459397 -0.466626 -1.245272  0.352782   \n",
      "3   0.120840 -1.439647  1.400460  1.333106  1.469958  1.240607  0.050713   \n",
      "4  -0.713697 -0.159452 -1.443633  1.435856 -1.168386  1.527689  0.660726   \n",
      "5   1.114315  0.128906 -0.791613 -1.368434 -0.447200 -0.535792  0.511538   \n",
      "6   0.045550 -0.571425 -1.840064 -1.200121 -1.299919  0.434750 -0.941376   \n",
      "7   1.323421  0.790116  0.246634  1.698820  1.055647 -0.968049  1.081691   \n",
      "8  -1.574002 -0.273750 -0.494687 -0.766491 -1.030163 -0.497025  1.257863   \n",
      "9  -0.701432 -1.969008  0.164814  0.298717 -1.238762 -0.680915  1.136648   \n",
      "10 -0.440992  0.161131  0.247066  0.424366 -1.120377  1.054983 -0.918899   \n",
      "11  0.573714 -0.717409  1.287697 -1.087630 -0.355435 -1.195996  1.194127   \n",
      "12  1.231483  0.163978 -0.763703 -0.283940  0.818589  1.247726  1.062544   \n",
      "13 -1.579939 -1.525674 -0.043966  1.017088  0.592885 -0.850487  0.450563   \n",
      "14 -0.763096 -1.228088  1.412218 -0.117316  1.325215  0.418310  0.739683   \n",
      "15  1.357211  1.311752  1.212651 -0.204406 -1.348640  1.345048 -0.543104   \n",
      "16  1.343697  0.389107  0.029233 -1.240801  0.480164  1.537565 -1.551134   \n",
      "17  1.126777  1.166188 -0.172299  0.294302  1.039246  0.477016  0.414831   \n",
      "18 -0.696092  0.012761 -1.822625 -1.467943  1.113384 -0.426624 -1.596702   \n",
      "19  0.684097  1.390184 -0.155283 -0.383612  1.029762 -0.705283 -0.505360   \n",
      "\n",
      "    Column_8  Column_9  Column_10  Column_11  Column_12  Column_13  Column_14  \\\n",
      "0   1.286946  0.315863   0.536020  -1.390304   1.308067   1.274469  -0.342783   \n",
      "1  -0.600226 -0.117623   0.845920  -0.776995  -0.154139   0.274289  -1.091008   \n",
      "2  -0.321611 -1.115923  -0.319667  -1.343031   1.113643  -1.115943   1.687725   \n",
      "3   1.497248 -1.216179  -1.522212  -1.305913  -0.760309  -0.574670  -0.076624   \n",
      "4  -1.233215 -1.464147   0.967646   0.959906   0.535040   1.019569  -0.966547   \n",
      "5   0.423740  1.170906  -0.411958  -1.051235   0.484461   0.975877   1.231069   \n",
      "6  -0.063281  1.231736  -1.307947  -0.055400   0.620217  -1.240875  -0.953308   \n",
      "7   0.052904  0.932494   1.291720  -0.371763  -1.451110  -1.244471   0.625911   \n",
      "8  -0.763183  0.069826   0.515708  -0.215512   1.314075   1.816190  -0.164878   \n",
      "9  -1.078990 -1.047613  -0.342674   1.914661  -1.027528   0.606481   2.134694   \n",
      "10 -1.279269 -1.358789   0.065042   0.859590  -1.751025  -0.060405  -0.278931   \n",
      "11  1.329096 -0.709757   0.342738   1.337862  -0.022683   0.012756  -0.209666   \n",
      "12  0.961097  0.438148  -1.971740  -0.907284   1.079096   0.332687  -1.259036   \n",
      "13 -1.087723 -0.508149   0.690436   0.763935   0.920799   0.545966   1.262784   \n",
      "14 -0.085685  0.243505  -0.330356  -0.792169   0.514006  -1.024302  -1.190843   \n",
      "15  1.666328  1.399259   1.118562  -0.452428  -0.568522   1.352366   0.128928   \n",
      "16 -0.026434  1.141498   0.667434   0.926203   0.449931  -0.696286   0.023700   \n",
      "17  1.021196  1.179252  -0.951425  -0.174576  -1.502677   0.215392  -1.138404   \n",
      "18 -0.011657  0.820580  -1.442477   0.672353  -1.530384  -1.978907   1.096106   \n",
      "19 -1.687284 -1.404887   1.559231   1.402100   0.429042  -0.490183  -0.518891   \n",
      "\n",
      "    Column_15  Column_16  \n",
      "0   -0.967950  -1.057764  \n",
      "1    0.685039  -1.109172  \n",
      "2   -0.463627   0.285919  \n",
      "3    1.543888  -0.365898  \n",
      "4   -0.282087  -1.327310  \n",
      "5    1.319576   0.181061  \n",
      "6   -0.548892  -1.146301  \n",
      "7    1.502253   1.645564  \n",
      "8    0.256779  -0.588906  \n",
      "9   -0.751240   1.116676  \n",
      "10   0.831141  -1.093837  \n",
      "11  -1.312441   1.791182  \n",
      "12  -1.279946   0.858389  \n",
      "13  -1.310220  -0.322145  \n",
      "14   0.832304  -1.082884  \n",
      "15  -1.015833   0.432528  \n",
      "16   1.468653   1.443541  \n",
      "17   0.133887   0.376026  \n",
      "18   0.425241   0.754331  \n",
      "19  -1.066526  -0.791000  \n"
     ]
    }
   ],
   "source": [
    "from sklearn.preprocessing import StandardScaler\n",
    "scaler = StandardScaler()\n",
    "df_standardized = pd.DataFrame(scaler.fit_transform(df), columns=columns)\n",
    "\n",
    "print(\"\\nStandardized DataFrame:\")\n",
    "print(df_standardized)"
   ]
  },
  {
   "cell_type": "markdown",
   "id": "49e60923",
   "metadata": {
    "papermill": {
     "duration": 0.004199,
     "end_time": "2024-02-29T16:06:47.471189",
     "exception": false,
     "start_time": "2024-02-29T16:06:47.466990",
     "status": "completed"
    },
    "tags": []
   },
   "source": [
    "# Without Standard Scalar"
   ]
  },
  {
   "cell_type": "code",
   "execution_count": 3,
   "id": "baf2e5cf",
   "metadata": {
    "execution": {
     "iopub.execute_input": "2024-02-29T16:06:47.482079Z",
     "iopub.status.busy": "2024-02-29T16:06:47.481690Z",
     "iopub.status.idle": "2024-02-29T16:06:47.596293Z",
     "shell.execute_reply": "2024-02-29T16:06:47.595148Z"
    },
    "papermill": {
     "duration": 0.122932,
     "end_time": "2024-02-29T16:06:47.598628",
     "exception": false,
     "start_time": "2024-02-29T16:06:47.475696",
     "status": "completed"
    },
    "tags": []
   },
   "outputs": [
    {
     "name": "stdout",
     "output_type": "stream",
     "text": [
      "0th Row Image\n"
     ]
    },
    {
     "data": {
      "image/png": "[encoded data removed]",
      "text/plain": [
       "<PIL.Image.Image image mode=L size=100x100>"
      ]
     },
     "metadata": {},
     "output_type": "display_data"
    },
    {
     "name": "stdout",
     "output_type": "stream",
     "text": [
      "1th Row Image\n"
     ]
    },
    {
     "data": {
      "image/png": "[encoded data removed]",
      "text/plain": [
       "<PIL.Image.Image image mode=L size=100x100>"
      ]
     },
     "metadata": {},
     "output_type": "display_data"
    },
    {
     "name": "stdout",
     "output_type": "stream",
     "text": [
      "2th Row Image\n"
     ]
    },
    {
     "data": {
      "image/png": "[encoded data removed]",
      "text/plain": [
       "<PIL.Image.Image image mode=L size=100x100>"
      ]
     },
     "metadata": {},
     "output_type": "display_data"
    },
    {
     "name": "stdout",
     "output_type": "stream",
     "text": [
      "3th Row Image\n"
     ]
    },
    {
     "data": {
      "image/png": "[encoded data removed]",
      "text/plain": [
       "<PIL.Image.Image image mode=L size=100x100>"
      ]
     },
     "metadata": {},
     "output_type": "display_data"
    },
    {
     "name": "stdout",
     "output_type": "stream",
     "text": [
      "4th Row Image\n"
     ]
    },
    {
     "data": {
      "image/png": "[encoded data removed]",
      "text/plain": [
       "<PIL.Image.Image image mode=L size=100x100>"
      ]
     },
     "metadata": {},
     "output_type": "display_data"
    },
    {
     "name": "stdout",
     "output_type": "stream",
     "text": [
      "5th Row Image\n"
     ]
    },
    {
     "data": {
      "image/png": "[encoded data removed]",
      "text/plain": [
       "<PIL.Image.Image image mode=L size=100x100>"
      ]
     },
     "metadata": {},
     "output_type": "display_data"
    },
    {
     "name": "stdout",
     "output_type": "stream",
     "text": [
      "6th Row Image\n"
     ]
    },
    {
     "data": {
      "image/png": "[encoded data removed]",
      "text/plain": [
       "<PIL.Image.Image image mode=L size=100x100>"
      ]
     },
     "metadata": {},
     "output_type": "display_data"
    },
    {
     "name": "stdout",
     "output_type": "stream",
     "text": [
      "7th Row Image\n"
     ]
    },
    {
     "data": {
      "image/png": "[encoded data removed]",
      "text/plain": [
       "<PIL.Image.Image image mode=L size=100x100>"
      ]
     },
     "metadata": {},
     "output_type": "display_data"
    },
    {
     "name": "stdout",
     "output_type": "stream",
     "text": [
      "8th Row Image\n"
     ]
    },
    {
     "data": {
      "image/png": "[encoded data removed]",
      "text/plain": [
       "<PIL.Image.Image image mode=L size=100x100>"
      ]
     },
     "metadata": {},
     "output_type": "display_data"
    },
    {
     "name": "stdout",
     "output_type": "stream",
     "text": [
      "9th Row Image\n"
     ]
    },
    {
     "data": {
      "image/png": "[encoded data removed]",
      "text/plain": [
       "<PIL.Image.Image image mode=L size=100x100>"
      ]
     },
     "metadata": {},
     "output_type": "display_data"
    },
    {
     "name": "stdout",
     "output_type": "stream",
     "text": [
      "10th Row Image\n"
     ]
    },
    {
     "data": {
      "image/png": "[encoded data removed]",
      "text/plain": [
       "<PIL.Image.Image image mode=L size=100x100>"
      ]
     },
     "metadata": {},
     "output_type": "display_data"
    },
    {
     "name": "stdout",
     "output_type": "stream",
     "text": [
      "11th Row Image\n"
     ]
    },
    {
     "data": {
      "image/png": "[encoded data removed]",
      "text/plain": [
       "<PIL.Image.Image image mode=L size=100x100>"
      ]
     },
     "metadata": {},
     "output_type": "display_data"
    },
    {
     "name": "stdout",
     "output_type": "stream",
     "text": [
      "12th Row Image\n"
     ]
    },
    {
     "data": {
      "image/png": "[encoded data removed]",
      "text/plain": [
       "<PIL.Image.Image image mode=L size=100x100>"
      ]
     },
     "metadata": {},
     "output_type": "display_data"
    },
    {
     "name": "stdout",
     "output_type": "stream",
     "text": [
      "13th Row Image\n"
     ]
    },
    {
     "data": {
      "image/png": "[encoded data removed]",
      "text/plain": [
       "<PIL.Image.Image image mode=L size=100x100>"
      ]
     },
     "metadata": {},
     "output_type": "display_data"
    },
    {
     "name": "stdout",
     "output_type": "stream",
     "text": [
      "14th Row Image\n"
     ]
    },
    {
     "data": {
      "image/png": "[encoded data removed]",
      "text/plain": [
       "<PIL.Image.Image image mode=L size=100x100>"
      ]
     },
     "metadata": {},
     "output_type": "display_data"
    },
    {
     "name": "stdout",
     "output_type": "stream",
     "text": [
      "15th Row Image\n"
     ]
    },
    {
     "data": {
      "image/png": "[encoded data removed]",
      "text/plain": [
       "<PIL.Image.Image image mode=L size=100x100>"
      ]
     },
     "metadata": {},
     "output_type": "display_data"
    },
    {
     "name": "stdout",
     "output_type": "stream",
     "text": [
      "16th Row Image\n"
     ]
    },
    {
     "data": {
      "image/png": "[encoded data removed]",
      "text/plain": [
       "<PIL.Image.Image image mode=L size=100x100>"
      ]
     },
     "metadata": {},
     "output_type": "display_data"
    },
    {
     "name": "stdout",
     "output_type": "stream",
     "text": [
      "17th Row Image\n"
     ]
    },
    {
     "data": {
      "image/png": "[encoded data removed]",
      "text/plain": [
       "<PIL.Image.Image image mode=L size=100x100>"
      ]
     },
     "metadata": {},
     "output_type": "display_data"
    },
    {
     "name": "stdout",
     "output_type": "stream",
     "text": [
      "18th Row Image\n"
     ]
    },
    {
     "data": {
      "image/png": "[encoded data removed]",
      "text/plain": [
       "<PIL.Image.Image image mode=L size=100x100>"
      ]
     },
     "metadata": {},
     "output_type": "display_data"
    },
    {
     "name": "stdout",
     "output_type": "stream",
     "text": [
      "19th Row Image\n"
     ]
    },
    {
     "data": {
      "image/png": "[encoded data removed]",
      "text/plain": [
       "<PIL.Image.Image image mode=L size=100x100>"
      ]
     },
     "metadata": {},
     "output_type": "display_data"
    }
   ],
   "source": [
    "import numpy as np\n",
    "import pandas as pd\n",
    "from PIL import Image\n",
    "from IPython.display import Image as IPImage, display\n",
    "\n",
    "np.random.seed(42)\n",
    "\n",
    "data = np.random.rand(20, 16)\n",
    "\n",
    "columns = [f\"Column_{i+1}\" for i in range(16)]\n",
    "\n",
    "df = pd.DataFrame(data, columns=columns)\n",
    "\n",
    "for i in range(df.shape[0]):\n",
    "    row_values = df.iloc[i].values\n",
    "    image_matrix = (row_values * 255).astype(np.uint8).reshape(4, 4)  # Assuming 16 columns\n",
    "    image = Image.fromarray(image_matrix)\n",
    "    resized_image = image.resize((100, 100))\n",
    "    print(f\"{i}th Row Image\")\n",
    "    display(resized_image)\n"
   ]
  },
  {
   "cell_type": "markdown",
   "id": "ef29a72e",
   "metadata": {
    "papermill": {
     "duration": 0.010206,
     "end_time": "2024-02-29T16:06:47.619346",
     "exception": false,
     "start_time": "2024-02-29T16:06:47.609140",
     "status": "completed"
    },
    "tags": []
   },
   "source": [
    "# With Standard Scalar"
   ]
  },
  {
   "cell_type": "code",
   "execution_count": 4,
   "id": "d9514e8a",
   "metadata": {
    "execution": {
     "iopub.execute_input": "2024-02-29T16:06:47.642981Z",
     "iopub.status.busy": "2024-02-29T16:06:47.642200Z",
     "iopub.status.idle": "2024-02-29T16:06:47.750902Z",
     "shell.execute_reply": "2024-02-29T16:06:47.749845Z"
    },
    "papermill": {
     "duration": 0.123407,
     "end_time": "2024-02-29T16:06:47.753241",
     "exception": false,
     "start_time": "2024-02-29T16:06:47.629834",
     "status": "completed"
    },
    "tags": []
   },
   "outputs": [
    {
     "name": "stdout",
     "output_type": "stream",
     "text": [
      "0th Row Image\n"
     ]
    },
    {
     "data": {
      "image/png": "[encoded data removed]",
      "text/plain": [
       "<PIL.Image.Image image mode=L size=100x100>"
      ]
     },
     "metadata": {},
     "output_type": "display_data"
    },
    {
     "name": "stdout",
     "output_type": "stream",
     "text": [
      "1th Row Image\n"
     ]
    },
    {
     "data": {
      "image/png": "[encoded data removed]",
      "text/plain": [
       "<PIL.Image.Image image mode=L size=100x100>"
      ]
     },
     "metadata": {},
     "output_type": "display_data"
    },
    {
     "name": "stdout",
     "output_type": "stream",
     "text": [
      "2th Row Image\n"
     ]
    },
    {
     "data": {
      "image/png": "[encoded data removed]",
      "text/plain": [
       "<PIL.Image.Image image mode=L size=100x100>"
      ]
     },
     "metadata": {},
     "output_type": "display_data"
    },
    {
     "name": "stdout",
     "output_type": "stream",
     "text": [
      "3th Row Image\n"
     ]
    },
    {
     "data": {
      "image/png": "[encoded data removed]",
      "text/plain": [
       "<PIL.Image.Image image mode=L size=100x100>"
      ]
     },
     "metadata": {},
     "output_type": "display_data"
    },
    {
     "name": "stdout",
     "output_type": "stream",
     "text": [
      "4th Row Image\n"
     ]
    },
    {
     "data": {
      "image/png": "[encoded data removed]",
      "text/plain": [
       "<PIL.Image.Image image mode=L size=100x100>"
      ]
     },
     "metadata": {},
     "output_type": "display_data"
    },
    {
     "name": "stdout",
     "output_type": "stream",
     "text": [
      "5th Row Image\n"
     ]
    },
    {
     "data": {
      "image/png": "[encoded data removed]",
      "text/plain": [
       "<PIL.Image.Image image mode=L size=100x100>"
      ]
     },
     "metadata": {},
     "output_type": "display_data"
    },
    {
     "name": "stdout",
     "output_type": "stream",
     "text": [
      "6th Row Image\n"
     ]
    },
    {
     "data": {
      "image/png": "[encoded data removed]",
      "text/plain": [
       "<PIL.Image.Image image mode=L size=100x100>"
      ]
     },
     "metadata": {},
     "output_type": "display_data"
    },
    {
     "name": "stdout",
     "output_type": "stream",
     "text": [
      "7th Row Image\n"
     ]
    },
    {
     "data": {
      "image/png": "[encoded data removed]",
      "text/plain": [
       "<PIL.Image.Image image mode=L size=100x100>"
      ]
     },
     "metadata": {},
     "output_type": "display_data"
    },
    {
     "name": "stdout",
     "output_type": "stream",
     "text": [
      "8th Row Image\n"
     ]
    },
    {
     "data": {
      "image/png": "[encoded data removed]",
      "text/plain": [
       "<PIL.Image.Image image mode=L size=100x100>"
      ]
     },
     "metadata": {},
     "output_type": "display_data"
    },
    {
     "name": "stdout",
     "output_type": "stream",
     "text": [
      "9th Row Image\n"
     ]
    },
    {
     "data": {
      "image/png": "[encoded data removed]",
      "text/plain": [
       "<PIL.Image.Image image mode=L size=100x100>"
      ]
     },
     "metadata": {},
     "output_type": "display_data"
    },
    {
     "name": "stdout",
     "output_type": "stream",
     "text": [
      "10th Row Image\n"
     ]
    },
    {
     "data": {
      "image/png": "[encoded data removed]",
      "text/plain": [
       "<PIL.Image.Image image mode=L size=100x100>"
      ]
     },
     "metadata": {},
     "output_type": "display_data"
    },
    {
     "name": "stdout",
     "output_type": "stream",
     "text": [
      "11th Row Image\n"
     ]
    },
    {
     "data": {
      "image/png": "[encoded data removed]",
      "text/plain": [
       "<PIL.Image.Image image mode=L size=100x100>"
      ]
     },
     "metadata": {},
     "output_type": "display_data"
    },
    {
     "name": "stdout",
     "output_type": "stream",
     "text": [
      "12th Row Image\n"
     ]
    },
    {
     "data": {
      "image/png": "[encoded data removed]",
      "text/plain": [
       "<PIL.Image.Image image mode=L size=100x100>"
      ]
     },
     "metadata": {},
     "output_type": "display_data"
    },
    {
     "name": "stdout",
     "output_type": "stream",
     "text": [
      "13th Row Image\n"
     ]
    },
    {
     "data": {
      "image/png": "[encoded data removed]",
      "text/plain": [
       "<PIL.Image.Image image mode=L size=100x100>"
      ]
     },
     "metadata": {},
     "output_type": "display_data"
    },
    {
     "name": "stdout",
     "output_type": "stream",
     "text": [
      "14th Row Image\n"
     ]
    },
    {
     "data": {
      "image/png": "[encoded data removed]",
      "text/plain": [
       "<PIL.Image.Image image mode=L size=100x100>"
      ]
     },
     "metadata": {},
     "output_type": "display_data"
    },
    {
     "name": "stdout",
     "output_type": "stream",
     "text": [
      "15th Row Image\n"
     ]
    },
    {
     "data": {
      "image/png": "[encoded data removed]",
      "text/plain": [
       "<PIL.Image.Image image mode=L size=100x100>"
      ]
     },
     "metadata": {},
     "output_type": "display_data"
    },
    {
     "name": "stdout",
     "output_type": "stream",
     "text": [
      "16th Row Image\n"
     ]
    },
    {
     "data": {
      "image/png": "[encoded data removed]",
      "text/plain": [
       "<PIL.Image.Image image mode=L size=100x100>"
      ]
     },
     "metadata": {},
     "output_type": "display_data"
    },
    {
     "name": "stdout",
     "output_type": "stream",
     "text": [
      "17th Row Image\n"
     ]
    },
    {
     "data": {
      "image/png": "[encoded data removed]",
      "text/plain": [
       "<PIL.Image.Image image mode=L size=100x100>"
      ]
     },
     "metadata": {},
     "output_type": "display_data"
    },
    {
     "name": "stdout",
     "output_type": "stream",
     "text": [
      "18th Row Image\n"
     ]
    },
    {
     "data": {
      "image/png": "[encoded data removed]",
      "text/plain": [
       "<PIL.Image.Image image mode=L size=100x100>"
      ]
     },
     "metadata": {},
     "output_type": "display_data"
    },
    {
     "name": "stdout",
     "output_type": "stream",
     "text": [
      "19th Row Image\n"
     ]
    },
    {
     "data": {
      "image/png": "[encoded data removed]",
      "text/plain": [
       "<PIL.Image.Image image mode=L size=100x100>"
      ]
     },
     "metadata": {},
     "output_type": "display_data"
    }
   ],
   "source": [
    "import numpy as np\n",
    "import pandas as pd\n",
    "from PIL import Image\n",
    "from IPython.display import Image as IPImage, display\n",
    "from sklearn.preprocessing import StandardScaler\n",
    "\n",
    "np.random.seed(42)\n",
    "\n",
    "data = np.random.rand(20, 16)\n",
    "\n",
    "columns = [f\"Column_{i+1}\" for i in range(16)]\n",
    "\n",
    "df = pd.DataFrame(data, columns=columns)\n",
    "\n",
    "scaler = StandardScaler()\n",
    "df_standardized = pd.DataFrame(scaler.fit_transform(df), columns=columns)\n",
    "\n",
    "for i in range(df_standardized.shape[0]):\n",
    "    row_values = df_standardized.iloc[i].values\n",
    "    image_matrix = (row_values * 255).astype(np.uint8).reshape(4, 4)  # Assuming 16 columns\n",
    "    image = Image.fromarray(image_matrix)\n",
    "    resized_image = image.resize((100, 100))\n",
    "    print(f\"{i}th Row Image\")\n",
    "    display(resized_image)"
   ]
  },
  {
   "cell_type": "markdown",
   "id": "e0a0f00d",
   "metadata": {
    "papermill": {
     "duration": 0.016892,
     "end_time": "2024-02-29T16:06:47.786581",
     "exception": false,
     "start_time": "2024-02-29T16:06:47.769689",
     "status": "completed"
    },
    "tags": []
   },
   "source": [
    "## Jpg Format Saved in to the Files (Original Dataset)"
   ]
  },
  {
   "cell_type": "code",
   "execution_count": 5,
   "id": "098822e8",
   "metadata": {
    "execution": {
     "iopub.execute_input": "2024-02-29T16:06:47.822392Z",
     "iopub.status.busy": "2024-02-29T16:06:47.821951Z",
     "iopub.status.idle": "2024-02-29T16:06:48.941719Z",
     "shell.execute_reply": "2024-02-29T16:06:48.939642Z"
    },
    "papermill": {
     "duration": 1.14058,
     "end_time": "2024-02-29T16:06:48.944466",
     "exception": false,
     "start_time": "2024-02-29T16:06:47.803886",
     "status": "completed"
    },
    "tags": []
   },
   "outputs": [
    {
     "name": "stdout",
     "output_type": "stream",
     "text": [
      "Image 1 saved at: images_original_df/image_1.jpg\n",
      "Image 2 saved at: images_original_df/image_2.jpg\n",
      "Image 3 saved at: images_original_df/image_3.jpg\n",
      "Image 4 saved at: images_original_df/image_4.jpg\n",
      "Image 5 saved at: images_original_df/image_5.jpg\n",
      "Image 6 saved at: images_original_df/image_6.jpg\n",
      "Image 7 saved at: images_original_df/image_7.jpg\n",
      "Image 8 saved at: images_original_df/image_8.jpg\n",
      "Image 9 saved at: images_original_df/image_9.jpg\n",
      "Image 10 saved at: images_original_df/image_10.jpg\n",
      "Image 11 saved at: images_original_df/image_11.jpg\n",
      "Image 12 saved at: images_original_df/image_12.jpg\n",
      "Image 13 saved at: images_original_df/image_13.jpg\n",
      "Image 14 saved at: images_original_df/image_14.jpg\n",
      "Image 15 saved at: images_original_df/image_15.jpg\n",
      "Image 16 saved at: images_original_df/image_16.jpg\n",
      "Image 17 saved at: images_original_df/image_17.jpg\n",
      "Image 18 saved at: images_original_df/image_18.jpg\n",
      "Image 19 saved at: images_original_df/image_19.jpg\n",
      "Image 20 saved at: images_original_df/image_20.jpg\n"
     ]
    }
   ],
   "source": [
    "import numpy as np\n",
    "import pandas as pd\n",
    "from PIL import Image\n",
    "from IPython.display import Image as IPImage, display\n",
    "\n",
    "df = pd.DataFrame(data, columns=columns)\n",
    "\n",
    "\n",
    "!mkdir -p images_original_df\n",
    "\n",
    "for i in range(len(df)):\n",
    "\n",
    "    row_values = df.iloc[i].values\n",
    "    \n",
    "    \n",
    "    image_matrix = (row_values * 255).astype(np.uint8).reshape(4, 4)\n",
    "    \n",
    "    \n",
    "    image = Image.fromarray(image_matrix)\n",
    "\n",
    "    resized_image = image.resize((100, 100))\n",
    "    \n",
    " \n",
    "    image_path = f\"images_original_df/image_{i+1}.jpg\"\n",
    "    resized_image.save(image_path)\n",
    "\n",
    "    # Display the saved image path\n",
    "    print(f\"Image {i+1} saved at: {image_path}\")\n",
    "    \n",
    "    "
   ]
  },
  {
   "cell_type": "markdown",
   "id": "48156c21",
   "metadata": {
    "papermill": {
     "duration": 0.01638,
     "end_time": "2024-02-29T16:06:48.978529",
     "exception": false,
     "start_time": "2024-02-29T16:06:48.962149",
     "status": "completed"
    },
    "tags": []
   },
   "source": [
    "## Jpg Format Saved in to the Files (Standard Scalar Dataset)"
   ]
  },
  {
   "cell_type": "code",
   "execution_count": 6,
   "id": "7bec56da",
   "metadata": {
    "execution": {
     "iopub.execute_input": "2024-02-29T16:06:49.016840Z",
     "iopub.status.busy": "2024-02-29T16:06:49.016408Z",
     "iopub.status.idle": "2024-02-29T16:06:50.182400Z",
     "shell.execute_reply": "2024-02-29T16:06:50.180848Z"
    },
    "papermill": {
     "duration": 1.190433,
     "end_time": "2024-02-29T16:06:50.185574",
     "exception": false,
     "start_time": "2024-02-29T16:06:48.995141",
     "status": "completed"
    },
    "tags": []
   },
   "outputs": [
    {
     "name": "stdout",
     "output_type": "stream",
     "text": [
      "Image 1 saved at: images_standardscalar_df/image_1.jpg\n",
      "Image 2 saved at: images_standardscalar_df/image_2.jpg\n",
      "Image 3 saved at: images_standardscalar_df/image_3.jpg\n",
      "Image 4 saved at: images_standardscalar_df/image_4.jpg\n",
      "Image 5 saved at: images_standardscalar_df/image_5.jpg\n",
      "Image 6 saved at: images_standardscalar_df/image_6.jpg\n",
      "Image 7 saved at: images_standardscalar_df/image_7.jpg\n",
      "Image 8 saved at: images_standardscalar_df/image_8.jpg\n",
      "Image 9 saved at: images_standardscalar_df/image_9.jpg\n",
      "Image 10 saved at: images_standardscalar_df/image_10.jpg\n",
      "Image 11 saved at: images_standardscalar_df/image_11.jpg\n",
      "Image 12 saved at: images_standardscalar_df/image_12.jpg\n",
      "Image 13 saved at: images_standardscalar_df/image_13.jpg\n",
      "Image 14 saved at: images_standardscalar_df/image_14.jpg\n",
      "Image 15 saved at: images_standardscalar_df/image_15.jpg\n",
      "Image 16 saved at: images_standardscalar_df/image_16.jpg\n",
      "Image 17 saved at: images_standardscalar_df/image_17.jpg\n",
      "Image 18 saved at: images_standardscalar_df/image_18.jpg\n",
      "Image 19 saved at: images_standardscalar_df/image_19.jpg\n",
      "Image 20 saved at: images_standardscalar_df/image_20.jpg\n"
     ]
    }
   ],
   "source": [
    "import numpy as np\n",
    "import pandas as pd\n",
    "from PIL import Image\n",
    "from IPython.display import Image as IPImage, display\n",
    "\n",
    "df = pd.DataFrame(data, columns=columns)\n",
    "\n",
    "scaler = StandardScaler()\n",
    "df_standardized = pd.DataFrame(scaler.fit_transform(df), columns=columns)\n",
    "!mkdir -p images_standardscalar_df\n",
    "\n",
    "for i in range(len(df)):\n",
    "\n",
    "    row_values = df.iloc[i].values\n",
    "    \n",
    "    \n",
    "    image_matrix = (row_values * 255).astype(np.uint8).reshape(4, 4)\n",
    "    \n",
    "    \n",
    "    image = Image.fromarray(image_matrix)\n",
    "\n",
    "    resized_image = image.resize((100, 100))\n",
    "    \n",
    " \n",
    "    image_path = f\"images_standardscalar_df/image_{i+1}.jpg\"\n",
    "    resized_image.save(image_path)\n",
    "\n",
    "    # Display the saved image path\n",
    "    print(f\"Image {i+1} saved at: {image_path}\")"
   ]
  }
 ],
 "metadata": {
  "kaggle": {
   "accelerator": "none",
   "dataSources": [],
   "dockerImageVersionId": 30664,
   "isGpuEnabled": false,
   "isInternetEnabled": true,
   "language": "python",
   "sourceType": "notebook"
  },
  "kernelspec": {
   "display_name": "Python 3",
   "language": "python",
   "name": "python3"
  },
  "language_info": {
   "codemirror_mode": {
    "name": "ipython",
    "version": 3
   },
   "file_extension": ".py",
   "mimetype": "text/x-python",
   "name": "python",
   "nbconvert_exporter": "python",
   "pygments_lexer": "ipython3",
   "version": "3.10.13"
  },
  "papermill": {
   "default_parameters": {},
   "duration": 8.990114,
   "end_time": "2024-02-29T16:06:50.827551",
   "environment_variables": {},
   "exception": null,
   "input_path": "__notebook__.ipynb",
   "output_path": "__notebook__.ipynb",
   "parameters": {},
   "start_time": "2024-02-29T16:06:41.837437",
   "version": "2.5.0"
  }
 },
 "nbformat": 4,
 "nbformat_minor": 5
}
